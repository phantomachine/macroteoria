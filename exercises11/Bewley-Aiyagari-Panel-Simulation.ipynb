{
 "cells": [
  {
   "cell_type": "markdown",
   "id": "understanding-sensitivity",
   "metadata": {
    "toc": true
   },
   "source": [
    "<h1>Table of Contents<span class=\"tocSkip\"></span></h1>\n",
    "<div class=\"toc\"><ul class=\"toc-item\"><li><span><a href=\"#Single-agent-Markov-LLN\" data-toc-modified-id=\"Single-agent-Markov-LLN-1\"><span class=\"toc-item-num\">1&nbsp;&nbsp;</span>Single-agent Markov LLN</a></span><ul class=\"toc-item\"><li><span><a href=\"#Remove-effect-of-initial-conditions\" data-toc-modified-id=\"Remove-effect-of-initial-conditions-1.1\"><span class=\"toc-item-num\">1.1&nbsp;&nbsp;</span>Remove effect of initial conditions</a></span></li><li><span><a href=\"#Visualize\" data-toc-modified-id=\"Visualize-1.2\"><span class=\"toc-item-num\">1.2&nbsp;&nbsp;</span>Visualize</a></span></li></ul></li><li><span><a href=\"#Synthetic-panel-of-households\" data-toc-modified-id=\"Synthetic-panel-of-households-2\"><span class=\"toc-item-num\">2&nbsp;&nbsp;</span>Synthetic panel of households</a></span></li><li><span><a href=\"#Summary\" data-toc-modified-id=\"Summary-3\"><span class=\"toc-item-num\">3&nbsp;&nbsp;</span>Summary</a></span></li></ul></div>"
   ]
  },
  {
   "cell_type": "code",
   "execution_count": 1,
   "id": "bored-brass",
   "metadata": {},
   "outputs": [],
   "source": [
    "import numpy as np\n",
    "import matplotlib.pyplot as plt\n",
    "from BewleyAiyagari import Bewley_Aiyagari as bam\n",
    "from scipy.stats import skew, kurtosis\n",
    "import pandas as pd\n",
    "\n",
    "np.warnings.filterwarnings('ignore', category=np.VisibleDeprecationWarning)\n",
    "\n",
    "%matplotlib inline"
   ]
  },
  {
   "cell_type": "markdown",
   "id": "sharp-valentine",
   "metadata": {},
   "source": [
    "# Single-agent Markov LLN"
   ]
  },
  {
   "cell_type": "markdown",
   "id": "czech-seventh",
   "metadata": {},
   "source": [
    "Here, we are simulating a partial equilibrium outcome for a single agent, taking price $r$ as given:"
   ]
  },
  {
   "cell_type": "code",
   "execution_count": 2,
   "id": "modular-potter",
   "metadata": {},
   "outputs": [],
   "source": [
    "# AR(1) shock process to individual skill/productivity\n",
    "rho = 0.8\n",
    "sigma = 0.3*np.sqrt(1.-rho**2)\n",
    "\n",
    "# Instantiate model CLASS on these parameters\n",
    "wham = bam(a_lb=-2.0, a_ub=40., RHO=rho, SIGMA=sigma, NGRID_e=3)\n",
    "\n",
    "# Fix arbitrary market relative price, note w = w(r)\n",
    "r = 0.03414"
   ]
  },
  {
   "cell_type": "markdown",
   "id": "dynamic-sustainability",
   "metadata": {},
   "source": [
    "**Note**: The parametrization here uses the result from a separate notebook that ran the general-equilibrium or stationary competitive equilibrium solution."
   ]
  },
  {
   "cell_type": "markdown",
   "id": "expanded-advocate",
   "metadata": {},
   "source": [
    "Solve dynamic program given $r$:"
   ]
  },
  {
   "cell_type": "code",
   "execution_count": 3,
   "id": "front-strategy",
   "metadata": {},
   "outputs": [
    {
     "name": "stdout",
     "output_type": "stream",
     "text": [
      "[ =============== ] 100.00% 15/15, error1 = 0.00009    "
     ]
    }
   ],
   "source": [
    "w = wham.CobbDouglas_mpl(r)\n",
    "params = [r, w]\n",
    "v, g = wham.Howard(params, display_howard=True)"
   ]
  },
  {
   "cell_type": "markdown",
   "id": "strong-repeat",
   "metadata": {},
   "source": [
    "Simulate sample path given optimal policy $(a,e) \\mapsto g(a,e)$:"
   ]
  },
  {
   "cell_type": "code",
   "execution_count": 4,
   "id": "seasonal-alcohol",
   "metadata": {},
   "outputs": [],
   "source": [
    "apath, epath = wham.MonteCarloSimulation(g, T_sim=100000)"
   ]
  },
  {
   "cell_type": "markdown",
   "id": "lesbian-smooth",
   "metadata": {},
   "source": [
    "## Remove effect of initial conditions"
   ]
  },
  {
   "cell_type": "markdown",
   "id": "eight-understanding",
   "metadata": {},
   "source": [
    "**Note**: A current agent state is $(a_{t}, e_{t})$."
   ]
  },
  {
   "cell_type": "markdown",
   "id": "controversial-likelihood",
   "metadata": {},
   "source": [
    "To ensure we are drawing samples from the ergodic distribution of agent states, we simulate the outcomes for long enough and discard a sufficiently long \"burn-in\" sample:"
   ]
  },
  {
   "cell_type": "code",
   "execution_count": 5,
   "id": "curious-prospect",
   "metadata": {},
   "outputs": [
    {
     "data": {
      "text/plain": [
       "80000"
      ]
     },
     "execution_count": 5,
     "metadata": {},
     "output_type": "execute_result"
    }
   ],
   "source": [
    "T_burn = 20000\n",
    "\n",
    "apath_burn = apath[T_burn:-1]\n",
    "apath_burn.size"
   ]
  },
  {
   "cell_type": "markdown",
   "id": "loving-boost",
   "metadata": {},
   "source": [
    "Likewise for the Markov-chain primitive shock to earnings:"
   ]
  },
  {
   "cell_type": "code",
   "execution_count": 6,
   "id": "italian-variable",
   "metadata": {},
   "outputs": [
    {
     "data": {
      "text/plain": [
       "80000"
      ]
     },
     "execution_count": 6,
     "metadata": {},
     "output_type": "execute_result"
    }
   ],
   "source": [
    "epath_burn = epath[T_burn::]\n",
    "epath_burn.size"
   ]
  },
  {
   "cell_type": "markdown",
   "id": "dependent-latex",
   "metadata": {},
   "source": [
    "Check that the simulation is representative of the asymptotic distribution:"
   ]
  },
  {
   "cell_type": "code",
   "execution_count": 7,
   "id": "lesser-hopkins",
   "metadata": {
    "scrolled": true
   },
   "outputs": [
    {
     "name": "stdout",
     "output_type": "stream",
     "text": [
      "Sample statistics ...\n",
      "\n",
      "Proportion time spent in state 0 =   0.25\n",
      "Proportion time spent in state 1 =    0.5\n",
      "Proportion time spent in state 2 =   0.25\n"
     ]
    }
   ],
   "source": [
    "print(\"Sample statistics ...\\n\")\n",
    "\n",
    "S = wham.S\n",
    "for idx_e, e in enumerate(S):\n",
    "    print(\"Proportion time spent in state %i = %6.2g\" \n",
    "          %(idx_e, (epath_burn[epath_burn==S[idx_e]]).size/epath_burn.size)\n",
    "         )"
   ]
  },
  {
   "cell_type": "code",
   "execution_count": 8,
   "id": "formal-water",
   "metadata": {},
   "outputs": [
    {
     "name": "stdout",
     "output_type": "stream",
     "text": [
      "Ergodic distribution of earnings shock ...\n",
      "\n",
      "Proportion time spent in state 0 =   0.25\n",
      "Proportion time spent in state 1 =   0.50\n",
      "Proportion time spent in state 2 =   0.25\n"
     ]
    }
   ],
   "source": [
    "print(\"Ergodic distribution of earnings shock ...\\n\")\n",
    "\n",
    "p_inf = wham.ErgodistMC(wham.P)\n",
    "for idx_e, prob_e in enumerate(p_inf):\n",
    "    print(\"Proportion time spent in state %i = %6.2f\" %(idx_e, prob_e))"
   ]
  },
  {
   "cell_type": "markdown",
   "id": "bridal-proceeding",
   "metadata": {},
   "source": [
    "## Visualize"
   ]
  },
  {
   "cell_type": "markdown",
   "id": "african-principle",
   "metadata": {},
   "source": [
    "Monte-Carlo sample path of agent asset position:"
   ]
  },
  {
   "cell_type": "code",
   "execution_count": 9,
   "id": "unlikely-companion",
   "metadata": {},
   "outputs": [
    {
     "data": {
      "image/png": "[encoded data removed]",
      "text/plain": [
       "<Figure size 432x288 with 1 Axes>"
      ]
     },
     "metadata": {
      "needs_background": "light"
     },
     "output_type": "display_data"
    }
   ],
   "source": [
    "plt.figure()\n",
    "plt.plot(apath_burn)\n",
    "plt.show()"
   ]
  },
  {
   "cell_type": "markdown",
   "id": "gothic-thesaurus",
   "metadata": {},
   "source": [
    "Joint distribution of asset positions:"
   ]
  },
  {
   "cell_type": "code",
   "execution_count": 10,
   "id": "ordinary-turtle",
   "metadata": {},
   "outputs": [
    {
     "data": {
      "image/png": "[encoded data removed]",
      "text/plain": [
       "<Figure size 432x288 with 1 Axes>"
      ]
     },
     "metadata": {
      "needs_background": "light"
     },
     "output_type": "display_data"
    }
   ],
   "source": [
    "plt.figure()\n",
    "freq, bins = wham.ShowDistro(apath_burn)\n",
    "plt.show()"
   ]
  },
  {
   "cell_type": "markdown",
   "id": "adjustable-migration",
   "metadata": {},
   "source": [
    "Check to see if there are some who end up borrowing sometimes:"
   ]
  },
  {
   "cell_type": "code",
   "execution_count": 11,
   "id": "adult-metadata",
   "metadata": {},
   "outputs": [
    {
     "data": {
      "text/plain": [
       "array([-0.05088086, -0.27567015, -0.48661618, ..., -1.06730351,\n",
       "       -1.01912608, -0.43980891])"
      ]
     },
     "execution_count": 11,
     "metadata": {},
     "output_type": "execute_result"
    }
   ],
   "source": [
    "apath_burn[apath_burn<0.0]"
   ]
  },
  {
   "cell_type": "markdown",
   "id": "healthy-korean",
   "metadata": {},
   "source": [
    "Sort by states of earnings shock outcome:"
   ]
  },
  {
   "cell_type": "code",
   "execution_count": 12,
   "id": "internal-bristol",
   "metadata": {
    "scrolled": true
   },
   "outputs": [
    {
     "name": "stdout",
     "output_type": "stream",
     "text": [
      "There are 20265 people in state e = 0.65\n",
      "There are 39824 people in state e = 1.00\n",
      "There are 19911 people in state e = 1.53\n"
     ]
    },
    {
     "data": {
      "image/png": "[encoded data removed]",
      "text/plain": [
       "<Figure size 432x288 with 1 Axes>"
      ]
     },
     "metadata": {
      "needs_background": "light"
     },
     "output_type": "display_data"
    }
   ],
   "source": [
    "plt.figure()\n",
    "\n",
    "A_sort_by_e = []\n",
    "\n",
    "for idx_e, e in enumerate(S):\n",
    "    # Conditioning on e\n",
    "    apath_by_e = apath_burn[epath_burn==e]\n",
    "    A_sort_by_e.append(apath_by_e)\n",
    "    print(\"There are %i people in state e = %0.2f\" \n",
    "          %(apath_by_e.size, e)\n",
    "         )\n",
    "    # Histograms - overlapping\n",
    "    opaquefy = 0.5\n",
    "    plt.hist(apath_by_e, bins=100, \n",
    "             density=True, \n",
    "             alpha=opaquefy, \n",
    "             label=\"e\"+str(idx_e))\n",
    "plt.xlabel(\"Asset position\", size=14)\n",
    "plt.ylabel(\"Probability\", size=14)\n",
    "plt.legend(loc='upper right')\n",
    "plt.title(\"Conditional asset distribution by earnings state\")\n",
    "plt.show()"
   ]
  },
  {
   "cell_type": "markdown",
   "id": "material-dallas",
   "metadata": {},
   "source": [
    "Let's describe the distribution of assets using a few descriptive statistics:"
   ]
  },
  {
   "cell_type": "code",
   "execution_count": 13,
   "id": "advised-homeless",
   "metadata": {},
   "outputs": [],
   "source": [
    "stats_single = { \"Mean\"     : apath_burn.mean(), \n",
    "                 \"Std\"      : apath_burn.std(), \n",
    "                 \"Skewness\" : skew(apath_burn), \n",
    "                 \"Kurtosis\" : kurtosis(apath_burn)\n",
    "               }"
   ]
  },
  {
   "cell_type": "code",
   "execution_count": 14,
   "id": "dimensional-resistance",
   "metadata": {
    "scrolled": false
   },
   "outputs": [
    {
     "data": {
      "text/html": [
       "<div>\n",
       "<style scoped>\n",
       "    .dataframe tbody tr th:only-of-type {\n",
       "        vertical-align: middle;\n",
       "    }\n",
       "\n",
       "    .dataframe tbody tr th {\n",
       "        vertical-align: top;\n",
       "    }\n",
       "\n",
       "    .dataframe thead th {\n",
       "        text-align: right;\n",
       "    }\n",
       "</style>\n",
       "<table border=\"1\" class=\"dataframe\">\n",
       "  <thead>\n",
       "    <tr style=\"text-align: right;\">\n",
       "      <th></th>\n",
       "      <th>Single</th>\n",
       "    </tr>\n",
       "  </thead>\n",
       "  <tbody>\n",
       "    <tr>\n",
       "      <th>Mean</th>\n",
       "      <td>8.287447</td>\n",
       "    </tr>\n",
       "    <tr>\n",
       "      <th>Std</th>\n",
       "      <td>6.471267</td>\n",
       "    </tr>\n",
       "    <tr>\n",
       "      <th>Skewness</th>\n",
       "      <td>0.765374</td>\n",
       "    </tr>\n",
       "    <tr>\n",
       "      <th>Kurtosis</th>\n",
       "      <td>0.471935</td>\n",
       "    </tr>\n",
       "  </tbody>\n",
       "</table>\n",
       "</div>"
      ],
      "text/plain": [
       "            Single\n",
       "Mean      8.287447\n",
       "Std       6.471267\n",
       "Skewness  0.765374\n",
       "Kurtosis  0.471935"
      ]
     },
     "execution_count": 14,
     "metadata": {},
     "output_type": "execute_result"
    }
   ],
   "source": [
    "df_single = pd.DataFrame.from_dict(stats_single, orient=\"index\", columns=[\"Single\"])\n",
    "df_single"
   ]
  },
  {
   "cell_type": "markdown",
   "id": "prompt-barrel",
   "metadata": {},
   "source": [
    "# Synthetic panel of households"
   ]
  },
  {
   "cell_type": "markdown",
   "id": "urban-tourist",
   "metadata": {},
   "source": [
    "The functions below have been explicitly (and inelegantly) pulled out from our ``BewleyAiyagari.py`` class file.\n",
    "\n",
    "We'll use this to do the panel of households simulation."
   ]
  },
  {
   "cell_type": "code",
   "execution_count": 15,
   "id": "disabled-enzyme",
   "metadata": {},
   "outputs": [],
   "source": [
    "def SimulateMarkovChain(S, P, mu=None, T=88888):\n",
    "        \"\"\"Simulate T-length observations of Markov chain (mu,P)\"\"\"\n",
    "        \"\"\"Note: Finite state space Z admit integers or reals\"\"\"\n",
    "        if mu is None:\n",
    "            # Define arbitrary initial uncond. distro over Z\n",
    "            mu = np.random.rand(S.size)\n",
    "            mu = mu/mu.sum()\n",
    "        data = np.empty(T)\n",
    "        data[0] = np.random.choice(S, replace=False, p = mu)\n",
    "        for t in range(T-1):\n",
    "            # Find index/location of element in Z with value data[t]\n",
    "            state = S.tolist().index(data[t])\n",
    "            # Given state index, draw new state from conditional distro\n",
    "            data[t+1] = np.random.choice(S, replace=False, p = P[state,:])         \n",
    "        return data"
   ]
  },
  {
   "cell_type": "code",
   "execution_count": 16,
   "id": "athletic-trust",
   "metadata": {},
   "outputs": [],
   "source": [
    "def MonteCarloSimulation(g, a_init, S, P, asset_grid, T_sim=20000):\n",
    "    a_path = [ a_init ]\n",
    "    e_path = SimulateMarkovChain(S, P, T=T_sim)\n",
    "    for t, e in enumerate(e_path):\n",
    "        # Get index of e in S\n",
    "        idx_e = S.tolist().index(e)\n",
    "        # Bounds checking and updating path of a(t)\n",
    "        if a_path[t] <= asset_grid_fine.min():\n",
    "            # Po'-rest boy\n",
    "            a_path.append(g[0, idx_e])\n",
    "        elif a_path[t] >= asset_grid_fine.max():\n",
    "            # Rich-est daddy-O\n",
    "            a_path.append(g[-1, idx_e])\n",
    "        else:\n",
    "            # Typical in-betweeners\n",
    "            astar = np.interp(a_path[t], asset_grid, g[:, idx_e])\n",
    "            a_path.append(astar)\n",
    "    return a_path"
   ]
  },
  {
   "cell_type": "markdown",
   "id": "royal-overhead",
   "metadata": {},
   "source": [
    "Our (earnings-shock) Markov-chain elements:"
   ]
  },
  {
   "cell_type": "code",
   "execution_count": 17,
   "id": "decent-cologne",
   "metadata": {},
   "outputs": [],
   "source": [
    "P = wham.P\n",
    "S = wham.S\n",
    "asset_grid = wham.asset_grid"
   ]
  },
  {
   "cell_type": "markdown",
   "id": "stuffed-winner",
   "metadata": {},
   "source": [
    "Let's simulate a panel of with time-series length ``T_panel`` and ``N_agents`` number of people initially uniformly distributed in the asset space:"
   ]
  },
  {
   "cell_type": "code",
   "execution_count": 18,
   "id": "dated-upper",
   "metadata": {},
   "outputs": [],
   "source": [
    "def SimPanel(g, asset_grid_fine, S, P, N_agents, T_panel):\n",
    "    A_panel = []\n",
    "    for i in range(N_agents):\n",
    "        A_panel.append(MonteCarloSimulation(g, asset_grid_fine[i], \n",
    "                                            S, P, asset_grid, T_sim=T_panel)\n",
    "                      )\n",
    "    return A_panel"
   ]
  },
  {
   "cell_type": "code",
   "execution_count": 19,
   "id": "subject-devices",
   "metadata": {},
   "outputs": [],
   "source": [
    "N_agents = 1000\n",
    "T_panel = 1000\n",
    "asset_grid_fine = np.linspace(wham.a_lb, wham.a_ub, N_agents)"
   ]
  },
  {
   "cell_type": "markdown",
   "id": "growing-civilization",
   "metadata": {},
   "source": [
    "Get a sample realization of panel data of dimensions ``N_agents`` by ``T_panel``:"
   ]
  },
  {
   "cell_type": "code",
   "execution_count": 20,
   "id": "assured-cedar",
   "metadata": {},
   "outputs": [],
   "source": [
    "AA = SimPanel(g, asset_grid_fine, S, P, N_agents, T_panel)"
   ]
  },
  {
   "cell_type": "code",
   "execution_count": 21,
   "id": "incoming-camera",
   "metadata": {},
   "outputs": [],
   "source": [
    "asset_panel = np.array(AA)"
   ]
  },
  {
   "cell_type": "markdown",
   "id": "opponent-pitch",
   "metadata": {},
   "source": [
    "Below, we want to just look at the cross-sectional distribution of the panel's final period (or wave, in panel-data lingo):"
   ]
  },
  {
   "cell_type": "code",
   "execution_count": 22,
   "id": "exclusive-phase",
   "metadata": {},
   "outputs": [],
   "source": [
    "T_burn_panel = T_panel\n",
    "asset_panel_burn = (asset_panel[:,T_burn_panel::]).flatten()"
   ]
  },
  {
   "cell_type": "markdown",
   "id": "industrial-scottish",
   "metadata": {},
   "source": [
    "Let's describe the final-period distribution of assets using a few descriptive statistics:"
   ]
  },
  {
   "cell_type": "code",
   "execution_count": 23,
   "id": "secondary-recipient",
   "metadata": {},
   "outputs": [],
   "source": [
    "stats_panel_xsection = { \"Mean\"     : asset_panel_burn.mean(), \n",
    "                         \"Std\"      : asset_panel_burn.std(), \n",
    "                         \"Skewness\" : skew(asset_panel_burn), \n",
    "                         \"Kurtosis\" : kurtosis(asset_panel_burn)\n",
    "                       }"
   ]
  },
  {
   "cell_type": "code",
   "execution_count": 24,
   "id": "revolutionary-insider",
   "metadata": {
    "scrolled": false
   },
   "outputs": [
    {
     "data": {
      "text/html": [
       "<div>\n",
       "<style scoped>\n",
       "    .dataframe tbody tr th:only-of-type {\n",
       "        vertical-align: middle;\n",
       "    }\n",
       "\n",
       "    .dataframe tbody tr th {\n",
       "        vertical-align: top;\n",
       "    }\n",
       "\n",
       "    .dataframe thead th {\n",
       "        text-align: right;\n",
       "    }\n",
       "</style>\n",
       "<table border=\"1\" class=\"dataframe\">\n",
       "  <thead>\n",
       "    <tr style=\"text-align: right;\">\n",
       "      <th></th>\n",
       "      <th>Cross section</th>\n",
       "    </tr>\n",
       "  </thead>\n",
       "  <tbody>\n",
       "    <tr>\n",
       "      <th>Mean</th>\n",
       "      <td>8.695082</td>\n",
       "    </tr>\n",
       "    <tr>\n",
       "      <th>Std</th>\n",
       "      <td>6.864774</td>\n",
       "    </tr>\n",
       "    <tr>\n",
       "      <th>Skewness</th>\n",
       "      <td>0.749560</td>\n",
       "    </tr>\n",
       "    <tr>\n",
       "      <th>Kurtosis</th>\n",
       "      <td>0.438111</td>\n",
       "    </tr>\n",
       "  </tbody>\n",
       "</table>\n",
       "</div>"
      ],
      "text/plain": [
       "          Cross section\n",
       "Mean           8.695082\n",
       "Std            6.864774\n",
       "Skewness       0.749560\n",
       "Kurtosis       0.438111"
      ]
     },
     "execution_count": 24,
     "metadata": {},
     "output_type": "execute_result"
    }
   ],
   "source": [
    "df_pxsection = pd.DataFrame.from_dict(stats_panel_xsection, orient=\"index\", columns=[\"Cross section\"])\n",
    "df_pxsection"
   ]
  },
  {
   "cell_type": "code",
   "execution_count": 25,
   "id": "broke-colorado",
   "metadata": {
    "scrolled": true
   },
   "outputs": [
    {
     "data": {
      "image/png": "[encoded data removed]",
      "text/plain": [
       "<Figure size 432x288 with 1 Axes>"
      ]
     },
     "metadata": {
      "needs_background": "light"
     },
     "output_type": "display_data"
    }
   ],
   "source": [
    "plt.figure()\n",
    "plt.hist(asset_panel_burn, bins=100, \n",
    "             density=True, \n",
    "             alpha=0.5, \n",
    "        )\n",
    "plt.xlabel(\"Asset position\", size=14)\n",
    "plt.ylabel(\"Probability\", size=14)\n",
    "plt.title(\"Long-run, cross-sectional distribution of agents\")\n",
    "plt.show()"
   ]
  },
  {
   "cell_type": "markdown",
   "id": "imported-secretary",
   "metadata": {},
   "source": [
    "# Summary"
   ]
  },
  {
   "cell_type": "markdown",
   "id": "indie-exposure",
   "metadata": {},
   "source": [
    "So the \"long-run\", cross-sectional empirical distribution of households is quite accurately described by the ergodic distribution assets held by the one agent over time. This is a result of the stationary equilibrium map itself possessing properties of a law of large numbers for Markov processes."
   ]
  },
  {
   "cell_type": "code",
   "execution_count": 26,
   "id": "russian-electric",
   "metadata": {},
   "outputs": [
    {
     "data": {
      "text/html": [
       "<div>\n",
       "<style scoped>\n",
       "    .dataframe tbody tr th:only-of-type {\n",
       "        vertical-align: middle;\n",
       "    }\n",
       "\n",
       "    .dataframe tbody tr th {\n",
       "        vertical-align: top;\n",
       "    }\n",
       "\n",
       "    .dataframe thead th {\n",
       "        text-align: right;\n",
       "    }\n",
       "</style>\n",
       "<table border=\"1\" class=\"dataframe\">\n",
       "  <thead>\n",
       "    <tr style=\"text-align: right;\">\n",
       "      <th></th>\n",
       "      <th>Single</th>\n",
       "      <th>Cross section</th>\n",
       "    </tr>\n",
       "  </thead>\n",
       "  <tbody>\n",
       "    <tr>\n",
       "      <th>Mean</th>\n",
       "      <td>8.287447</td>\n",
       "      <td>8.695082</td>\n",
       "    </tr>\n",
       "    <tr>\n",
       "      <th>Std</th>\n",
       "      <td>6.471267</td>\n",
       "      <td>6.864774</td>\n",
       "    </tr>\n",
       "    <tr>\n",
       "      <th>Skewness</th>\n",
       "      <td>0.765374</td>\n",
       "      <td>0.749560</td>\n",
       "    </tr>\n",
       "    <tr>\n",
       "      <th>Kurtosis</th>\n",
       "      <td>0.471935</td>\n",
       "      <td>0.438111</td>\n",
       "    </tr>\n",
       "  </tbody>\n",
       "</table>\n",
       "</div>"
      ],
      "text/plain": [
       "            Single  Cross section\n",
       "Mean      8.287447       8.695082\n",
       "Std       6.471267       6.864774\n",
       "Skewness  0.765374       0.749560\n",
       "Kurtosis  0.471935       0.438111"
      ]
     },
     "execution_count": 26,
     "metadata": {},
     "output_type": "execute_result"
    }
   ],
   "source": [
    "df_summary = pd.concat([df_single, df_pxsection], axis=1)\n",
    "df_summary"
   ]
  }
 ],
 "metadata": {
  "kernelspec": {
   "display_name": "Python 3",
   "language": "python",
   "name": "python3"
  },
  "language_info": {
   "codemirror_mode": {
    "name": "ipython",
    "version": 3
   },
   "file_extension": ".py",
   "mimetype": "text/x-python",
   "name": "python",
   "nbconvert_exporter": "python",
   "pygments_lexer": "ipython3",
   "version": "3.6.12"
  },
  "latex_envs": {
   "LaTeX_envs_menu_present": true,
   "autoclose": false,
   "autocomplete": true,
   "bibliofile": "biblio.bib",
   "cite_by": "apalike",
   "current_citInitial": 1,
   "eqLabelWithNumbers": true,
   "eqNumInitial": 1,
   "hotkeys": {
    "equation": "Ctrl-E",
    "itemize": "Ctrl-I"
   },
   "labels_anchors": false,
   "latex_user_defs": false,
   "report_style_numbering": false,
   "user_envs_cfg": false
  },
  "toc": {
   "base_numbering": 1,
   "nav_menu": {},
   "number_sections": true,
   "sideBar": false,
   "skip_h1_title": false,
   "title_cell": "Table of Contents",
   "title_sidebar": "Contents",
   "toc_cell": true,
   "toc_position": {},
   "toc_section_display": true,
   "toc_window_display": true
  }
 },
 "nbformat": 4,
 "nbformat_minor": 5
}
