{
 "cells": [
  {
   "cell_type": "markdown",
   "metadata": {
    "toc": true
   },
   "source": [
    "<h1>Table of Contents<span class=\"tocSkip\"></span></h1>\n",
    "<div class=\"toc\"><ul class=\"toc-item\"><li><span><a href=\"#A-Walrasian-Heterogeneous-Agent-Model\" data-toc-modified-id=\"A-Walrasian-Heterogeneous-Agent-Model-1\"><span class=\"toc-item-num\">1&nbsp;&nbsp;</span>A Walrasian Heterogeneous Agent Model</a></span><ul class=\"toc-item\"><li><span><a href=\"#Key-Learning-Points\" data-toc-modified-id=\"Key-Learning-Points-1.1\"><span class=\"toc-item-num\">1.1&nbsp;&nbsp;</span>Key Learning Points</a></span><ul class=\"toc-item\"><li><span><a href=\"#Economics\" data-toc-modified-id=\"Economics-1.1.1\"><span class=\"toc-item-num\">1.1.1&nbsp;&nbsp;</span>Economics</a></span></li><li><span><a href=\"#Modelling/Computation\" data-toc-modified-id=\"Modelling/Computation-1.1.2\"><span class=\"toc-item-num\">1.1.2&nbsp;&nbsp;</span>Modelling/Computation</a></span></li></ul></li><li><span><a href=\"#Environment\" data-toc-modified-id=\"Environment-1.2\"><span class=\"toc-item-num\">1.2&nbsp;&nbsp;</span>Environment</a></span><ul class=\"toc-item\"><li><span><a href=\"#Households\" data-toc-modified-id=\"Households-1.2.1\"><span class=\"toc-item-num\">1.2.1&nbsp;&nbsp;</span>Households</a></span></li><li><span><a href=\"#Firms\" data-toc-modified-id=\"Firms-1.2.2\"><span class=\"toc-item-num\">1.2.2&nbsp;&nbsp;</span>Firms</a></span></li><li><span><a href=\"#Stationary-equilibrium\" data-toc-modified-id=\"Stationary-equilibrium-1.2.3\"><span class=\"toc-item-num\">1.2.3&nbsp;&nbsp;</span>Stationary equilibrium</a></span></li></ul></li><li><span><a href=\"#Class-implementation\" data-toc-modified-id=\"Class-implementation-1.3\"><span class=\"toc-item-num\">1.3&nbsp;&nbsp;</span>Class implementation</a></span></li><li><span><a href=\"#Note\" data-toc-modified-id=\"Note-1.4\"><span class=\"toc-item-num\">1.4&nbsp;&nbsp;</span>Note</a></span></li><li><span><a href=\"#Partial-Equilibrium\" data-toc-modified-id=\"Partial-Equilibrium-1.5\"><span class=\"toc-item-num\">1.5&nbsp;&nbsp;</span>Partial Equilibrium</a></span></li><li><span><a href=\"#General-Equilibrium\" data-toc-modified-id=\"General-Equilibrium-1.6\"><span class=\"toc-item-num\">1.6&nbsp;&nbsp;</span>General Equilibrium</a></span><ul class=\"toc-item\"><li><span><a href=\"#Pseudocode-(stationary-equilibrium)\" data-toc-modified-id=\"Pseudocode-(stationary-equilibrium)-1.6.1\"><span class=\"toc-item-num\">1.6.1&nbsp;&nbsp;</span>Pseudocode (stationary equilibrium)</a></span></li></ul></li><li><span><a href=\"#Inequality-measure\" data-toc-modified-id=\"Inequality-measure-1.7\"><span class=\"toc-item-num\">1.7&nbsp;&nbsp;</span>Inequality measure</a></span></li></ul></li></ul></div>"
   ]
  },
  {
   "cell_type": "markdown",
   "metadata": {
    "slideshow": {
     "slide_type": "slide"
    }
   },
   "source": [
    "# A Walrasian Heterogeneous Agent Model\n",
    "\n",
    "by [MachinaFantasma](https://phantomachine.github.io/)\n"
   ]
  },
  {
   "cell_type": "markdown",
   "metadata": {
    "slideshow": {
     "slide_type": "subslide"
    }
   },
   "source": [
    "## Key Learning Points\n",
    "\n",
    "\n",
    "### Economics\n",
    "\n",
    "**A Theoretical Baseline**. Recall our lessons on *complete markets* (see LS, Ch.8, *Equilibrium with Complete Markets*). There we had:\n",
    "* A world with ex-ante identical agents (same preferences and technologies) but ex-post heterogeneity in individual agents' risky incomes (hence, consumption risk)\n",
    "* Walrasian markets (centralized trading environment)\n",
    "* Complete state-contingent Arrow securities that can be traded to insure individuals' idionsyncratic risks\n",
    "* All contractual promises are (assumed) enforceable\n",
    "\n",
    "*Insurance and representative agent result*. The punchline was that in spite of individual (ex-post) heterogeneity in consumption opportunities, we have a perfect insurance through the market solution (i.e., competitive equilibrium). That is, because of the modelling ingredients listed above, the market solution correctly prices and eliminates all possible individuals' *idionsyncratic* risks to consumption.\n",
    "\n"
   ]
  },
  {
   "cell_type": "markdown",
   "metadata": {
    "slideshow": {
     "slide_type": "subslide"
    }
   },
   "source": [
    "In short, complete markets theory also rationalized a *representative agent outcome*: The competitive equilibrium appears as if everyone looks the same, as far as their economic (e.g., consumption) outcomes---and therefore welfare---is concerned. As a corrollary, in a complete markets world, the only uninsurable thing would be common (or aggregate) shocks to the economic environment (e.g., economy-wide fall in exogenous productivity or an exogenous cut in government spending). This forms the theoretical basis for representative agent models in the 1980s to the early 2000s (e.g., Real Business Cycle and New Keynesian models).\n",
    "\n"
   ]
  },
  {
   "cell_type": "markdown",
   "metadata": {
    "slideshow": {
     "slide_type": "subslide"
    }
   },
   "source": [
    "**A Wrinkle in the Baseline Perfect World**. Clearly, we don't see this in the real world. Instead we see wealth and consumption inequality. So why? \n",
    "\n",
    "Empiricists working on inequality have a rich set of documented findings using survey and administrative data on people's incomes and wealth. But we still need some structure, some model with clearly defined cause-and-effect mechanisms to provide a possible rationalization of these empirical regularities.\n",
    "\n",
    "One way to break the benchmark result is to make our model markets incomplete. That is, agents' may not have access to a complete set of securities that span all possible individual contingencies. There are various way to model this:\n",
    "\n",
    "1. Ad-hoc (exogenous) restrictions on set of tradable securities\n",
    "\n",
    "2. Endogenous restrictions on otherwise complete securities markets:\n",
    "    * Private information (an adverse selection problem)\n",
    "    * Limited commitment to honoring contracts (a moral hazard problem)\n",
    "    \n"
   ]
  },
  {
   "cell_type": "markdown",
   "metadata": {
    "slideshow": {
     "slide_type": "skip"
    }
   },
   "source": [
    "We'll focus on the first in this notebook. The second class of problems fall under dynamic mechanism design (contracts). (For further reading, see Miao, Ch. 22 or Ljungqvist and Sargent, Ch. 20-22; and Kocherlakota's *The New Dynamic Public Finance*.)"
   ]
  },
  {
   "cell_type": "markdown",
   "metadata": {
    "slideshow": {
     "slide_type": "slide"
    }
   },
   "source": [
    "### Modelling/Computation\n",
    "\n",
    "We will apply the computational lessons we've learned thus far and put it all together here in this example:\n",
    "\n",
    "1. *Infinite horizon stochastic dynamic programming*: This is applied to price-taking agents' ex-ante problem. Because agents are ex-ante indentical (in taste and technology), they will be solving for the same optimal Markovian *strategy*. They only differ is their *outcomes*.\n",
    "\n",
    "2. *Simulating Markov chains*: We will apply this to generate random samples of an individual's lifetime realization of idiosyncratic (skill) shocks. Given that, we can construct their random outcomes in terms of allocations.\n",
    "\n",
    "3. *Stationary distributions*: Using the Monte Carlo simulation outcomes, we can construct the aggregate distribution of an agent's asset holdings. A stable Markov process law of large numbers apply in this model: With large enough samples, the distribution of an agent's history of asset outcomes approximates the distribution of assets of the population of all agents in the long run. Intuitively, this is because the equilibrium agent behaves as a Markov process that, with time, wanders throughout the entire state space of asset positions. If every agent has that property (but have different outcomes at each point in time), then the frequency with which each agent visits every (measurable) subset of the state space in the long run should converge to the population measure over the same subsets. This is proven more formally in our lecture slides.\n",
    "\n",
    "4. *Walrasian equilibrium*: Given a candidate stationary distribution of agents, we can calculate the integral of agent's labor and asset supplies to match them to an aggregate firm's demands for these inputs. A *stationary* recursive Walrasian equilibrium will select the appropriate pricing vector to clear these markets. This part is \"new\" in this exercise. We will use the [*bisection method*](https://en.wikipedia.org/wiki/Bisection_method) to model the hypothetical Walrasian auction process (i.e., *tâtonnement*).\n",
    "\n",
    "We will also learn to compute some useful statistics for measuring inequality in the asset distribution."
   ]
  },
  {
   "cell_type": "code",
   "execution_count": 1,
   "metadata": {
    "slideshow": {
     "slide_type": "skip"
    }
   },
   "outputs": [],
   "source": [
    "import numpy as np\n",
    "import matplotlib.pyplot as plt\n",
    "from BewleyAiyagari import Bewley_Aiyagari as bam\n",
    "\n",
    "np.warnings.filterwarnings('ignore', category=np.VisibleDeprecationWarning)"
   ]
  },
  {
   "cell_type": "markdown",
   "metadata": {
    "slideshow": {
     "slide_type": "slide"
    }
   },
   "source": [
    "## Environment\n",
    "\n",
    "Notation:\n",
    "\n",
    "* $a \\in X = [\\underline{a}, \\overline{a}]$: individual's non-state contingent claim (asset) that pays a unit of consumption in any state of the world. (Hence, exogenous incomplete markets model)\n",
    "\n",
    "* $c > 0$: consumption\n",
    "\n",
    "* $e \\in S$: skill level of individual, where $S$ is a finite set\n",
    "\n",
    "* Aggregate capital and labor (demanded): $K$ and $N$\n",
    "\n",
    "* Relative prices of consumption, capital and labor: $(1, r, w)$\n",
    "\n",
    "### Households\n",
    "\n",
    "\n",
    "An individual agent's problem:\n",
    "\n",
    "* Preference function: $\\mathbb{E}\\left(\\sum_{t\\geq 0} U(c_{t}) | (a_{t}, e_{t})\\right)$, $U$ strictly increasing, strictly concave and differentiable everywhere.\n",
    "\n",
    "* Constraint per period: \n",
    "\n",
    "    * Budget: $a_{t+1} + c_{t} = (1+r_{t})a_{t} + w_{t}e_{t}$\n",
    "    \n",
    "    * Borrowing limit or liquidity constraint (ad-hoc): $a_{+1} \\geq \\underline{a}$\n",
    "\n",
    "* Skill level (exogenous): $e_{t} \\sim \\text{Markov}(\\mu_{0}, P)$ (approximates a continuous AR(1) process)\n",
    "\n",
    "Let $\\overline{a}$ be arbitrarily large upper bound on assets, and, let\n",
    "$$\\Gamma(a,e) := \\left\\{ y \\in \\mathbb{R}: \\underline{a} \\leq y \\leq \\min \\{(1+r)a+we, \\overline{a} \\} \\right\\}.$$\n",
    "\n",
    "Optimization problem re-written as a Bellman functional:\n",
    "$$\n",
    "    v(a, e; r) = \\max_{a_{+1} \\in  \\Gamma(a,e)} \\left\\{ U((1+r)a+we-a_{+1}) + \\beta \\sum_{e_{+1} \\in S}P_{e, e_{+1}} v(a_{+1}, e_{+1}; r) \\right\\}\n",
    "$$\n",
    "\n",
    "Note:\n",
    "\n",
    "* Each agent (an atom) on the population $[0,1]$ faces a random draw of $e$ at the start of each period before taking an action, independent of someone else. So this implies that even if agents have the same primitive descriptions of taste, they will be ex post differ in their wealth levels over the long run since their individual histories of states $(a,e)$ will be different. \n",
    "\n",
    "    * That is, we'll have a panel data set of people that will differ along the dimensions $(a,e)$!\n",
    "    \n",
    "    * If you think about it, this is a rather Rawlsian sort of experimental world: Everyone may enter the stage looking the same initially, but beyond the veil of ignorance (ex post realization of individual skill shocks over time) some will be in a better wealth position than some others.\n",
    "\n",
    "* Given market relative prices of good, capital and labor $(1, r, w)$, solution for an agent currently named $(a,e)$ is a value function $(a,e) \\mapsto v(a,e; r)$ and a decision function $(a,e) \\mapsto g(a,e; r)$\n",
    "\n",
    "* $v$ and $g$ depend on the (given) outcomes of $(w,r)$, and on the agent's income through $(a,e)$, just like the indirect utility function of your standard micro consumer problem\n",
    "\n",
    "* We'll see in equilibrium, we can derive $w$ as a function of $r$ so we only need to track $r$ in terms of market clearing\n",
    "\n",
    "\n",
    "### Firms\n",
    "\n",
    "Firm's profit maximizing conditions:\n",
    "* $r_{t} = F_{K}(K_{t}, N_{t}) - \\delta$\n",
    "\n",
    "* $w_{t} = F_{N}(K_{t}, N_{t})$\n",
    "\n"
   ]
  },
  {
   "cell_type": "markdown",
   "metadata": {
    "slideshow": {
     "slide_type": "slide"
    }
   },
   "source": [
    "### Stationary equilibrium\n",
    "\n",
    "This will be a vector of prices $(1, r, w)$ and saving and labor allocation function(s) $(g, N)$, such that\n",
    "\n",
    "* Agents optimize (and derive their consumption demand and factor supply functions): $v$ and $g$\n",
    "\n",
    "* Firms optimize (as described above)\n",
    "\n",
    "* Markets clear (supply equals demand):\n",
    "\n",
    "    * Labor: $\\sum_{e} \\mu_{\\infty} e = N$, where $\\mu_{\\infty} = \\mu_{0} \\lim_{t \\rightarrow \\infty} P^{t}$ is the stationary distribution of agent skill types,\n",
    "    \n",
    "    * Capital: $\\int_{X \\times S} g(a,e; r) d\\psi(a,e) = K$,\n",
    "    \n",
    "    where the stationary distribution function $\\psi$ over agent types $(a,e)$ satisfies the fixed point condition:\n",
    "    \n",
    "    $$\\psi(B) = \\int_{X \\times S} Q(a,e, B) d\\psi(a,e),$$\n",
    "    \n",
    "    for every (Borel-measurable) event $B \\in \\mathcal{B}(X \\times S)$. (Implicitly, $Q$ and therefore $\\psi$ will depend on $r$.)\n"
   ]
  },
  {
   "cell_type": "markdown",
   "metadata": {
    "slideshow": {
     "slide_type": "slide"
    }
   },
   "source": [
    "## Class implementation\n",
    "\n",
    "Below we describe all the ingredients and methods we'll need and pack it all nicely into a class called ```Bewley_Aiyagari```.\n",
    "\n",
    "This objected oriented approach to coding the model makes our code neat and easy to follow, as things will be described as sets of subsets of objects and methods. \n",
    "\n",
    "You can think of this as just like when you do math properly in terms of set notation, or, even when you do long proofs by considering a set of smaller results (Lemmata or Propositions) before arriving at the main Theorem that puts them all together."
   ]
  },
  {
   "cell_type": "markdown",
   "metadata": {
    "slideshow": {
     "slide_type": "slide"
    }
   },
   "source": [
    "## Note\n",
    "\n",
    "Here we develop a refinement over the brute-force iteration-on-Bellman-operator algorithm. This (prove-ably) more efficient algorithm called Howard's policy improvement algorithm speeds up the solution. \n",
    "\n",
    "This is crucial as we'll be iteratively searching over candidate Walrasian equilibrium prices and recomputing agents' problems at each guess of the price vector $(1, r, w)$ until a stationary recursive competitive equilibrium attains.\n",
    "\n",
    "The idea of this Howard policy-improvement algorithm is as follows:\n",
    "1. Suppose the agent follows a given decision rule, $g_{n}$, given prices\n",
    "2. Calculate her lifetime expected payoff function $v_{n}$ as a consequence of sticking to rule $g_{n}$\n",
    "3. Given $v_{n}$ check if there exists a profitable deviation $g_{n+1}$ from $g_{n}$. \n",
    "4. If so, the value of following the new rule $g_{n+1}$ is $v_{n+1}$.\n",
    "5. Reset $n \\gets n+1$ and Repeat steps 2 to 4 until $g_{n+1} = g_{n} = g$.\n",
    "\n",
    "That is, an optimal policy $g$ supporting a value function $v$, much be such that there is no incentive to deviate from it ever. This no-profitable-one-shot-deviation property is yet another incarnation of Bellman's Principle of Optimality.\n",
    "\n",
    "(Game theory students, this algorithm is similar in concept to checking for subgame perfection in repeated and dynamic games.)"
   ]
  },
  {
   "cell_type": "markdown",
   "metadata": {
    "slideshow": {
     "slide_type": "slide"
    }
   },
   "source": [
    "## Partial Equilibrium\n",
    "\n",
    "Let's test drive this ``Bewley_Aiyagari`` class. Consider a partial equilibrium example. Suppose we fixed *some* market relative price of capital, $r$.\n",
    "\n",
    "Below we parametrize the model and solve for a single agent's best response. "
   ]
  },
  {
   "cell_type": "code",
   "execution_count": 2,
   "metadata": {
    "slideshow": {
     "slide_type": "slide"
    }
   },
   "outputs": [],
   "source": [
    "# AR(1) shock process to individual skill/productivity\n",
    "rho = 0.8\n",
    "sigma = 0.2/np.sqrt(1.-rho**2)\n",
    "\n",
    "# Instantiate model CLASS on these parameters\n",
    "wham = bam(a_lb=0.0, a_ub=300., RHO=rho, SIGMA=sigma, NGRID_e=3)\n",
    "\n",
    "# Fix arbitrary market relative price, note w = w(r)\n",
    "r = wham.r_lb + 1e-2"
   ]
  },
  {
   "cell_type": "markdown",
   "metadata": {
    "slideshow": {
     "slide_type": "slide"
    }
   },
   "source": [
    "The output is her value function $(a,e) \\mapsto v(a,e; r)$ and her savings function $(a,e) \\mapsto g(a,e; r)$, as best response to market prices $(1, r, w(r))$. "
   ]
  },
  {
   "cell_type": "code",
   "execution_count": 3,
   "metadata": {
    "slideshow": {
     "slide_type": "slide"
    }
   },
   "outputs": [
    {
     "name": "stdout",
     "output_type": "stream",
     "text": [
      "[ =============== ] 100.00% 12/12, error1 = 0.00005    "
     ]
    }
   ],
   "source": [
    "v, g = wham.Howard(r, display_howard=True)"
   ]
  },
  {
   "cell_type": "code",
   "execution_count": 4,
   "metadata": {
    "slideshow": {
     "slide_type": "slide"
    }
   },
   "outputs": [
    {
     "data": {
      "image/png": "[encoded data removed]",
      "text/plain": [
       "<Figure size 432x288 with 1 Axes>"
      ]
     },
     "metadata": {
      "needs_background": "light"
     },
     "output_type": "display_data"
    }
   ],
   "source": [
    "plt.figure()\n",
    "plt.plot(wham.asset_grid, v[:,0],'-y', \n",
    "         wham.asset_grid, v[:,1], '-b', \n",
    "         wham.asset_grid, v[:,2], '-r')\n",
    "plt.title(\"Value Function\")\n",
    "plt.xlabel(\"$a$\")\n",
    "plt.ylabel(\"v(a,e)\")\n",
    "plt.show()"
   ]
  },
  {
   "cell_type": "code",
   "execution_count": 5,
   "metadata": {
    "slideshow": {
     "slide_type": "slide"
    }
   },
   "outputs": [
    {
     "data": {
      "image/png": "[encoded data removed]",
      "text/plain": [
       "<Figure size 432x288 with 1 Axes>"
      ]
     },
     "metadata": {
      "needs_background": "light"
     },
     "output_type": "display_data"
    }
   ],
   "source": [
    "plt.figure()\n",
    "plt.plot(wham.asset_grid, g[:,0],'-y', \n",
    "         wham.asset_grid, g[:,1], '-b', \n",
    "         wham.asset_grid, g[:,2], '-r')\n",
    "plt.title(\"Optimal Saving Function\")\n",
    "plt.xlabel(\"$a$\")\n",
    "plt.ylabel(\"g(a,e)\")\n",
    "plt.show()"
   ]
  },
  {
   "cell_type": "markdown",
   "metadata": {
    "slideshow": {
     "slide_type": "slide"
    }
   },
   "source": [
    "## General Equilibrium\n",
    "\n",
    "Now we consider the complete model where relatives prices are determined in a Walrasian equilibrium. We focus on the equilibrium concept of *stationary recursive competitive equilibrium*, or, *stationary equilibrium* in short. This was defined formally at the top.\n",
    "\n",
    "A stationary equilibrium here requires that allocations and prices are such that the resulting aggregate state of the economy (i.e., the endogeneous distribution over *agent types*) remains constant overtime. Within this equilibrium, agents are still moving around their individual state spaces stochastically, but the aggregate joint distribution over agents' asset and skill levels stays the same. It turns out that to pin down this equilibrium, the aggregate distribution is sufficiently characterized by its mean statistic, or equivalently, by its market clearing relative price(s).\n",
    "\n",
    "**Applications.** Using this equilibrium concept, one can study how\n",
    "* incomplete markets results in ex-post heterogeneity in agent outcomes;\n",
    "\n",
    "* borrowing constraints result in precautionary savings motives;\n",
    "\n",
    "* the economy can inefficient have too much capital in the long run (thus providing a case for taxing capital income); and\n",
    "\n",
    "With enough additional frictions, we may have a more serious structural model (i.e., a candidate causal mechanism) to help us decipher the dynamics of individual wealth and aggregrate observed inequality in wealth in the data.\n",
    "\n",
    "The literature has extended this model to also study non-stationary equilibria, by introducing aggregate shocks. In such settings, we'll have versions of a heterogeneous agent business cycle model.\n",
    "\n",
    "Below, we demo how the *stationary recursive competitive equilibrium* can be found, using the ``Bewley_Aiyagari`` class we've designed above."
   ]
  },
  {
   "cell_type": "markdown",
   "metadata": {
    "slideshow": {
     "slide_type": "slide"
    }
   },
   "source": [
    "### Pseudocode (stationary equilibrium)"
   ]
  },
  {
   "cell_type": "markdown",
   "metadata": {
    "slideshow": {
     "slide_type": "slide"
    }
   },
   "source": [
    "1. Guess initial vector of relative prices, $r \\equiv (1, r, w(r))$.\n",
    "\n",
    "2. ```Bewley_Aiyagari.Howard()```: Given $r$, solve agents' dynamic programs. Get:\n",
    "\n",
    "    * Value function $(a,e) \\mapsto v(a,e; r)$\n",
    "    \n",
    "    * Savings function $(a,e) \\mapsto g(a,e; r)$\n",
    "      \n",
    "3. ```Bewley_Aiyagari.MonteCarloSimulation()```: Given $g$ and Markov chain process $(\\mu_0, P)$, construct candidate stationary distribution of agents, $\\psi(a,e; r)$.\n",
    "\n",
    "4. ```Bewley_Aiyagari.Tatonnement()```: Given $\\psi$, check if market clearing.\n",
    "\n",
    "    * Capital demand equals supply, $K = \\int g(a,e; r) \\psi(a,e; r)$, implied in $r = F_{K}(K,N) - \\delta$.\n",
    "    \n",
    "    * Labour supply equals demand, $\\int (1 \\times e) d\\psi(a,e; r) = N$.\n",
    "      \n",
    "   If $r$ such that markets are not clearing, update $r \\gets r'$.\n",
    "\n",
    "6. Repeat 2 to 4 until $K \\approx \\int g(a,e; r) d\\psi(a,e; r)$."
   ]
  },
  {
   "cell_type": "code",
   "execution_count": 6,
   "metadata": {
    "slideshow": {
     "slide_type": "slide"
    }
   },
   "outputs": [],
   "source": [
    "# AR(1) shock process to individual skill/productivity\n",
    "rho = 0.8\n",
    "sigma = 0.2/np.sqrt(1.-rho**2)\n",
    "\n",
    "# Instantiate model CLASS on these parameters\n",
    "wham = bam(a_lb=0.0, a_ub=300., RHO=rho, SIGMA=sigma, NGRID_e=3)"
   ]
  },
  {
   "cell_type": "code",
   "execution_count": 7,
   "metadata": {
    "slideshow": {
     "slide_type": "slide"
    }
   },
   "outputs": [
    {
     "name": "stdout",
     "output_type": "stream",
     "text": [
      "Iteration \t error_r \t error_K \t\t r\n",
      "\n",
      "\t0 \t 0.03764 \t 0.85483 \t -0.00625\n",
      "\n",
      "\t1 \t 0.03845 \t 0.97146 \t -0.03155\n",
      "\n",
      "\t2 \t 0.03128 \t 0.75615 \t -0.00027\n",
      "\n",
      "\t3 \t 0.00220 \t 0.09076 \t 0.00194\n",
      "\n",
      "\t4 \t 0.03605 \t 0.00797 \t -0.03412\n",
      "\n",
      "Stationary Equilibrium found!\n"
     ]
    }
   ],
   "source": [
    "# Initial guess of market equilibrium\n",
    "r = -0.04389\n",
    "\n",
    "# Iterate on price vector until markets clear\n",
    "print(\"Iteration \\t error_r \\t error_K \\t\\t r\")\n",
    "for iter_price in range(wham.MAXITER_price):\n",
    "    # Check from other end too\n",
    "    if iter_price == 1:\n",
    "        r = wham.r_lb + 1e-2\n",
    "    # Implied aggregate demand K_demand from firm's FOC w.r.t. K\n",
    "    K_demand = wham.CobbDouglas_netmpk_inverse(r)\n",
    "    # Given r, work out agent's problem (supply of a's)\n",
    "    value, policy = wham.Howard(r, display_howard=False)    \n",
    "    # Approx distro over population a's by limiting distro of an agent's history\n",
    "    a_path, e_path = wham.MonteCarloSimulation(policy, a_init=K_demand/wham.N)\n",
    "    # Implied aggregate supply of K - this is just mean of the simulated distro\n",
    "    K_supply = wham.AssetDistributionStats(a_path)[0]\n",
    "    # Tâtonnement - Bisection algorithm as \"Walrasian auctioneer\"\n",
    "    r_update, error_r = wham.Tatonnement(K_supply, r)\n",
    "    r = r_update\n",
    "    # Stopping rule - market clearing\n",
    "    excess_demand_K = K_supply - K_demand\n",
    "    error_K = np.absolute(excess_demand_K)/K_demand\n",
    "    # Print stats\n",
    "    print(\"\\n\\t%i \\t %6.5f \\t %6.5f \\t %6.5f\" %(iter_price, error_r, error_K, r))\n",
    "    if (error_K < wham.TOL_K):\n",
    "        print(\"\\nStationary Equilibrium found!\")\n",
    "        break"
   ]
  },
  {
   "cell_type": "code",
   "execution_count": 8,
   "metadata": {
    "slideshow": {
     "slide_type": "skip"
    }
   },
   "outputs": [
    {
     "data": {
      "text/plain": [
       "11.83678183337165"
      ]
     },
     "execution_count": 8,
     "metadata": {},
     "output_type": "execute_result"
    }
   ],
   "source": [
    "K_supply"
   ]
  },
  {
   "cell_type": "code",
   "execution_count": 9,
   "metadata": {
    "slideshow": {
     "slide_type": "skip"
    }
   },
   "outputs": [
    {
     "data": {
      "text/plain": [
       "11.743231380066124"
      ]
     },
     "execution_count": 9,
     "metadata": {},
     "output_type": "execute_result"
    }
   ],
   "source": [
    "K_demand"
   ]
  },
  {
   "cell_type": "markdown",
   "metadata": {
    "slideshow": {
     "slide_type": "slide"
    }
   },
   "source": [
    "## Inequality measure"
   ]
  },
  {
   "cell_type": "code",
   "execution_count": 10,
   "metadata": {
    "slideshow": {
     "slide_type": "subslide"
    }
   },
   "outputs": [
    {
     "data": {
      "image/png": "[encoded data removed]",
      "text/plain": [
       "<Figure size 432x288 with 1 Axes>"
      ]
     },
     "metadata": {
      "needs_background": "light"
     },
     "output_type": "display_data"
    }
   ],
   "source": [
    "# the histogram of the data\n",
    "freq, bins = wham.ShowDistro(a_path)"
   ]
  },
  {
   "cell_type": "code",
   "execution_count": 11,
   "metadata": {
    "scrolled": true,
    "slideshow": {
     "slide_type": "subslide"
    }
   },
   "outputs": [
    {
     "data": {
      "text/plain": [
       "0.32745704237282514"
      ]
     },
     "execution_count": 11,
     "metadata": {},
     "output_type": "execute_result"
    }
   ],
   "source": [
    "# Gini coefficient of distribution\n",
    "wham.Gini(a_path)"
   ]
  },
  {
   "cell_type": "code",
   "execution_count": 12,
   "metadata": {
    "slideshow": {
     "slide_type": "subslide"
    }
   },
   "outputs": [
    {
     "data": {
      "image/png": "[encoded data removed]",
      "text/plain": [
       "<Figure size 432x432 with 1 Axes>"
      ]
     },
     "metadata": {
      "needs_background": "light"
     },
     "output_type": "display_data"
    }
   ],
   "source": [
    "# Lorenz curve depiction\n",
    "wham.LorenzCurve(a_path)"
   ]
  }
 ],
 "metadata": {
  "celltoolbar": "Slideshow",
  "kernelspec": {
   "display_name": "Python 3",
   "language": "python",
   "name": "python3"
  },
  "language_info": {
   "codemirror_mode": {
    "name": "ipython",
    "version": 3
   },
   "file_extension": ".py",
   "mimetype": "text/x-python",
   "name": "python",
   "nbconvert_exporter": "python",
   "pygments_lexer": "ipython3",
   "version": "3.6.12"
  },
  "latex_envs": {
   "LaTeX_envs_menu_present": true,
   "autoclose": false,
   "autocomplete": false,
   "bibliofile": "biblio.bib",
   "cite_by": "apalike",
   "current_citInitial": 1,
   "eqLabelWithNumbers": true,
   "eqNumInitial": 1,
   "hotkeys": {
    "equation": "Ctrl-E",
    "itemize": "Ctrl-I"
   },
   "labels_anchors": false,
   "latex_user_defs": false,
   "report_style_numbering": true,
   "user_envs_cfg": true
  },
  "toc": {
   "base_numbering": 1,
   "nav_menu": {},
   "number_sections": true,
   "sideBar": false,
   "skip_h1_title": false,
   "title_cell": "Table of Contents",
   "title_sidebar": "Contents",
   "toc_cell": true,
   "toc_position": {},
   "toc_section_display": true,
   "toc_window_display": true
  }
 },
 "nbformat": 4,
 "nbformat_minor": 2
}
